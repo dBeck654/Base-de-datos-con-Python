{
 "cells": [
  {
   "cell_type": "markdown",
   "id": "8ab68864-c6d9-4a97-913f-cf31687d250d",
   "metadata": {},
   "source": [
    "# Accediendo a Bases de Datos con Python"
   ]
  },
  {
   "cell_type": "markdown",
   "id": "93addc90-7fb7-4332-b70f-3ae883ac2740",
   "metadata": {},
   "source": [
    "## 1. Python SQL DB-APIs"
   ]
  },
  {
   "cell_type": "code",
   "execution_count": 162,
   "id": "133fca1f-0413-40bc-935a-b51c3b41d1f7",
   "metadata": {},
   "outputs": [
    {
     "data": {
      "text/html": [
       "<div>\n",
       "<style scoped>\n",
       "    .dataframe tbody tr th:only-of-type {\n",
       "        vertical-align: middle;\n",
       "    }\n",
       "\n",
       "    .dataframe tbody tr th {\n",
       "        vertical-align: top;\n",
       "    }\n",
       "\n",
       "    .dataframe thead th {\n",
       "        text-align: right;\n",
       "    }\n",
       "</style>\n",
       "<table border=\"1\" class=\"dataframe\">\n",
       "  <thead>\n",
       "    <tr style=\"text-align: right;\">\n",
       "      <th></th>\n",
       "      <th>Aplicación o Base de datos</th>\n",
       "      <th>SQL API</th>\n",
       "    </tr>\n",
       "  </thead>\n",
       "  <tbody>\n",
       "    <tr>\n",
       "      <th>0</th>\n",
       "      <td>MySLQ</td>\n",
       "      <td>MySQL Connector API</td>\n",
       "    </tr>\n",
       "    <tr>\n",
       "      <th>1</th>\n",
       "      <td>PostgreSQL</td>\n",
       "      <td>psycopg2</td>\n",
       "    </tr>\n",
       "    <tr>\n",
       "      <th>2</th>\n",
       "      <td>IBM DB2</td>\n",
       "      <td>ibm_db</td>\n",
       "    </tr>\n",
       "    <tr>\n",
       "      <th>3</th>\n",
       "      <td>SQL Server</td>\n",
       "      <td>dblin API</td>\n",
       "    </tr>\n",
       "    <tr>\n",
       "      <th>4</th>\n",
       "      <td>Database MS Access</td>\n",
       "      <td>ODBC</td>\n",
       "    </tr>\n",
       "    <tr>\n",
       "      <th>5</th>\n",
       "      <td>Oracle</td>\n",
       "      <td>OCI</td>\n",
       "    </tr>\n",
       "    <tr>\n",
       "      <th>6</th>\n",
       "      <td>Java</td>\n",
       "      <td>JDBC</td>\n",
       "    </tr>\n",
       "    <tr>\n",
       "      <th>7</th>\n",
       "      <td>MongoDB</td>\n",
       "      <td>PyMongo</td>\n",
       "    </tr>\n",
       "  </tbody>\n",
       "</table>\n",
       "</div>"
      ],
      "text/plain": [
       "  Aplicación o Base de datos              SQL API\n",
       "0                      MySLQ  MySQL Connector API\n",
       "1                 PostgreSQL             psycopg2\n",
       "2                    IBM DB2               ibm_db\n",
       "3                 SQL Server            dblin API\n",
       "4         Database MS Access                 ODBC\n",
       "5                     Oracle                  OCI\n",
       "6                       Java                 JDBC\n",
       "7                    MongoDB              PyMongo"
      ]
     },
     "execution_count": 162,
     "metadata": {},
     "output_type": "execute_result"
    }
   ],
   "source": [
    "import pandas as pd\n",
    "tabla=pd.DataFrame({'Aplicación o Base de datos':['MySLQ','PostgreSQL','IBM DB2','SQL Server','Database MS Access','Oracle','Java','MongoDB'],'SQL API':['MySQL Connector API','psycopg2','ibm_db','dblin API','ODBC','OCI','JDBC','PyMongo']})\n",
    "tabla"
   ]
  },
  {
   "cell_type": "markdown",
   "id": "f666aed0-eacf-49af-bac4-e76eaee9c6f0",
   "metadata": {},
   "source": [
    "## 2. Escribiendo Código Usando DB-APIs"
   ]
  },
  {
   "cell_type": "markdown",
   "id": "dc442547-be28-47b7-8770-1ab3f4bbfc7b",
   "metadata": {},
   "source": [
    "El código en Python se conecta con la base de datos mediante llamadas de la API.\n",
    "* Las DB-APIs permiten trabajar con múltiples tipos de bases de datos relacionales.\n",
    "* Una vez aprendes funciones de las DB-APIs, puedes usarlas en cualquier base de datos.\n",
    "\n",
    "Beneficios de usar DB-APIs:\n",
    "* Faciles de implementar y entender.\n",
    "* Portable a través de bases de datos.\n",
    "* Amplio alcance de conectividad de bases de datos desde Python."
   ]
  },
  {
   "cell_type": "markdown",
   "id": "2ddd8986-2e29-4318-8b5c-719a5257870b",
   "metadata": {},
   "source": [
    "### 2.1. Conceptos de una DB-API"
   ]
  },
  {
   "cell_type": "markdown",
   "id": "566d82f0-339b-453a-be2a-b52664abadd8",
   "metadata": {},
   "source": [
    "Existen dos tipos de objetos en las DB-APIs\n",
    "\n",
    "#### 2.1.1. Objetos de conexión:\n",
    "* Conexiones a la base de datos.\n",
    "* Administar transacciones.\n",
    "\n",
    "#### 2.1.2. Objetos Cursores:\n",
    "* Queries.\n",
    "* Desplazamiento a través del conjunto resultado.\n",
    "* Rescatar resultados.\n"
   ]
  },
  {
   "cell_type": "markdown",
   "id": "fb63d3be-40c1-4d40-a9e4-639fd4f14ec4",
   "metadata": {},
   "source": [
    "#### Metodos de Conexión"
   ]
  },
  {
   "cell_type": "markdown",
   "id": "8ec2f3ef-76c4-453c-8892-bae5821c5c88",
   "metadata": {},
   "source": [
    "* .cursor(): Retorna un nuevo objeto cursor usando la conexión.\n",
    "* .commit(): Comete cualquier transacción pendiente.\n",
    "* .rollback(): Proboca que la base de datos vuelva al inicio de cualquier transacción pendiente.\n",
    "* .close(): Para cerrar una conexión."
   ]
  },
  {
   "cell_type": "markdown",
   "id": "27abdf64-9645-4ef8-b552-98ff775bc28d",
   "metadata": {},
   "source": [
    "#### Metodos cursores"
   ]
  },
  {
   "cell_type": "markdown",
   "id": "3668aa05-f8cf-4399-926c-13e086604b5d",
   "metadata": {},
   "source": [
    "Estos objetos representan un cursor de base de datos que son usados para administrar el contenido de una operación de recuperación.\n",
    "Cualquier cambio hecho en la base de datos por cursorres inmediatamente es visible por otros cursores.\n",
    "Un cursor de base de datos es una estructura de control que permite la transversalidad sobre registros en una base de datos. Se comporta como un nombre de archivo en un lenguaje de programción. Apenas un programa abre un archivo para acceder a su contenido, abre un cursor para acceder a los resultados de la query."
   ]
  },
  {
   "cell_type": "markdown",
   "id": "1c21557e-baef-4b0e-bf54-ef24c49fe5b1",
   "metadata": {},
   "source": [
    "* .callproc()\n",
    "* .execute()\n",
    "* .fetchone()\n",
    "* .fetchmany()\n",
    "* .fetcall()\n",
    "* .nextset()\n",
    "* .arraysize()\n",
    "* .close()\n",
    "\n",
    "A continuación se usa la API sqlite3 para conectar con la base de datos y ejecutar queries:\n",
    "\n",
    "El primer paso es importar las librerias que utilizaremos, luego se realiza la conexión la base de datos."
   ]
  },
  {
   "cell_type": "code",
   "execution_count": 172,
   "id": "56809d3e-a17b-4904-99e2-c4add5d10375",
   "metadata": {},
   "outputs": [],
   "source": [
    "import sqlite3\n",
    "import pandas as pd\n",
    "conn=sqlite3.connect('INSTRUCTOR.db',timeout=10)"
   ]
  },
  {
   "cell_type": "markdown",
   "id": "a5ff046d-e331-4ca9-abb0-f844f3eb4a53",
   "metadata": {},
   "source": [
    "Se crea el objeto cursor con la conexión realizada anteriormente."
   ]
  },
  {
   "cell_type": "code",
   "execution_count": 174,
   "id": "34f85cae-77ef-4491-85d6-8dc90c6f5d6a",
   "metadata": {},
   "outputs": [],
   "source": [
    "cursor_obj=conn.cursor()"
   ]
  },
  {
   "cell_type": "markdown",
   "id": "a5aed0cc-3365-48d0-9de6-32a22d0d179d",
   "metadata": {},
   "source": [
    "Se crea una tabla mediante la ejecución de una query SQL."
   ]
  },
  {
   "cell_type": "code",
   "execution_count": 176,
   "id": "c88c05fd-1fdf-4a56-a96a-72a69d366a2f",
   "metadata": {},
   "outputs": [
    {
     "data": {
      "text/plain": [
       "<sqlite3.Cursor at 0x1f52a1685c0>"
      ]
     },
     "execution_count": 176,
     "metadata": {},
     "output_type": "execute_result"
    }
   ],
   "source": [
    "table='''CREATE TABLE IF NOT EXISTS INSTRUCTOR(ID INT PRIMARY KEY NOT NULL,FNAME VARCHAR(20),LNAME VARCHAR(20),CITY VARCHAR (20),CCODE CHAR(2));'''\n",
    "cursor_obj.execute(table)"
   ]
  },
  {
   "cell_type": "markdown",
   "id": "43bc852e-b3c8-4251-94ab-5cc1ad102186",
   "metadata": {},
   "source": [
    "Se insertan valores dentro de la tabla con una query SQL."
   ]
  },
  {
   "cell_type": "code",
   "execution_count": 178,
   "id": "77b7cb7e-170c-4e2b-9533-4e8810ec7309",
   "metadata": {},
   "outputs": [
    {
     "data": {
      "text/plain": [
       "<sqlite3.Cursor at 0x1f52a1685c0>"
      ]
     },
     "execution_count": 178,
     "metadata": {},
     "output_type": "execute_result"
    }
   ],
   "source": [
    "insert='''INSERT INTO INSTRUCTOR VALUES(1,'Rav','Ahuja','TORONTO','CA');'''\n",
    "cursor_obj.execute(insert)"
   ]
  },
  {
   "cell_type": "code",
   "execution_count": 179,
   "id": "20bb04bf-cf92-4634-b6c0-82b0e4cc4c5f",
   "metadata": {},
   "outputs": [
    {
     "data": {
      "text/plain": [
       "<sqlite3.Cursor at 0x1f52a1685c0>"
      ]
     },
     "execution_count": 179,
     "metadata": {},
     "output_type": "execute_result"
    }
   ],
   "source": [
    "insert2='''INSERT INTO INSTRUCTOR VALUES(2,'Raul','Chong','Markham','CA'),(3,'Hima','Vasudevan','Chicago','US');'''\n",
    "cursor_obj.execute(insert2)"
   ]
  },
  {
   "cell_type": "markdown",
   "id": "7cc01579-c15f-423d-af42-cbec2bca2e86",
   "metadata": {},
   "source": [
    "Se muestran los datos contenidos en la tabla."
   ]
  },
  {
   "cell_type": "code",
   "execution_count": 181,
   "id": "efb06065-98df-4164-a00d-31340fe1c725",
   "metadata": {},
   "outputs": [
    {
     "name": "stdout",
     "output_type": "stream",
     "text": [
      "Todos los datos\n",
      "(1, 'Rav', 'Ahuja', 'TORONTO', 'CA')\n",
      "(2, 'Raul', 'Chong', 'Markham', 'CA')\n",
      "(3, 'Hima', 'Vasudevan', 'Chicago', 'US')\n"
     ]
    }
   ],
   "source": [
    "statement='''SELECT * FROM INSTRUCTOR'''\n",
    "cursor_obj.execute(statement)\n",
    "print('Todos los datos')\n",
    "output_all=cursor_obj.fetchall()\n",
    "for row_all in output_all:\n",
    "    print(row_all)"
   ]
  },
  {
   "cell_type": "markdown",
   "id": "bfe5ae37-afbd-4fdc-a716-80c02560bf87",
   "metadata": {},
   "source": [
    "Se crea un dataframe de pandas a partir de la lectura de una query SQL."
   ]
  },
  {
   "cell_type": "code",
   "execution_count": 183,
   "id": "b6ab8af8-b9b1-4179-bfee-68b4f05cb5f2",
   "metadata": {},
   "outputs": [
    {
     "data": {
      "text/html": [
       "<div>\n",
       "<style scoped>\n",
       "    .dataframe tbody tr th:only-of-type {\n",
       "        vertical-align: middle;\n",
       "    }\n",
       "\n",
       "    .dataframe tbody tr th {\n",
       "        vertical-align: top;\n",
       "    }\n",
       "\n",
       "    .dataframe thead th {\n",
       "        text-align: right;\n",
       "    }\n",
       "</style>\n",
       "<table border=\"1\" class=\"dataframe\">\n",
       "  <thead>\n",
       "    <tr style=\"text-align: right;\">\n",
       "      <th></th>\n",
       "      <th>ID</th>\n",
       "      <th>FNAME</th>\n",
       "      <th>LNAME</th>\n",
       "      <th>CITY</th>\n",
       "      <th>CCODE</th>\n",
       "    </tr>\n",
       "  </thead>\n",
       "  <tbody>\n",
       "    <tr>\n",
       "      <th>0</th>\n",
       "      <td>1</td>\n",
       "      <td>Rav</td>\n",
       "      <td>Ahuja</td>\n",
       "      <td>TORONTO</td>\n",
       "      <td>CA</td>\n",
       "    </tr>\n",
       "    <tr>\n",
       "      <th>1</th>\n",
       "      <td>2</td>\n",
       "      <td>Raul</td>\n",
       "      <td>Chong</td>\n",
       "      <td>Markham</td>\n",
       "      <td>CA</td>\n",
       "    </tr>\n",
       "    <tr>\n",
       "      <th>2</th>\n",
       "      <td>3</td>\n",
       "      <td>Hima</td>\n",
       "      <td>Vasudevan</td>\n",
       "      <td>Chicago</td>\n",
       "      <td>US</td>\n",
       "    </tr>\n",
       "  </tbody>\n",
       "</table>\n",
       "</div>"
      ],
      "text/plain": [
       "   ID FNAME      LNAME     CITY CCODE\n",
       "0   1   Rav      Ahuja  TORONTO    CA\n",
       "1   2  Raul      Chong  Markham    CA\n",
       "2   3  Hima  Vasudevan  Chicago    US"
      ]
     },
     "execution_count": 183,
     "metadata": {},
     "output_type": "execute_result"
    }
   ],
   "source": [
    "instructor_df=pd.read_sql_query('''SELECT * FROM INSTRUCTOR''',conn)\n",
    "instructor_df"
   ]
  },
  {
   "cell_type": "markdown",
   "id": "1e497ad7-bffb-414e-bd22-1b17bd7f7fb6",
   "metadata": {},
   "source": [
    "Se realizan operaciones con pandas."
   ]
  },
  {
   "cell_type": "code",
   "execution_count": 185,
   "id": "aaff4503-3000-4cd6-a5f2-e0c06a9bb5f5",
   "metadata": {},
   "outputs": [
    {
     "data": {
      "text/plain": [
       "0        Ahuja\n",
       "1        Chong\n",
       "2    Vasudevan\n",
       "Name: LNAME, dtype: object"
      ]
     },
     "execution_count": 185,
     "metadata": {},
     "output_type": "execute_result"
    }
   ],
   "source": [
    "instructor_df.LNAME"
   ]
  },
  {
   "cell_type": "code",
   "execution_count": 186,
   "id": "6588e23d-a969-44f0-a3eb-d507353282df",
   "metadata": {},
   "outputs": [
    {
     "data": {
      "text/html": [
       "<div>\n",
       "<style scoped>\n",
       "    .dataframe tbody tr th:only-of-type {\n",
       "        vertical-align: middle;\n",
       "    }\n",
       "\n",
       "    .dataframe tbody tr th {\n",
       "        vertical-align: top;\n",
       "    }\n",
       "\n",
       "    .dataframe thead th {\n",
       "        text-align: right;\n",
       "    }\n",
       "</style>\n",
       "<table border=\"1\" class=\"dataframe\">\n",
       "  <thead>\n",
       "    <tr style=\"text-align: right;\">\n",
       "      <th></th>\n",
       "      <th>FNAME</th>\n",
       "    </tr>\n",
       "  </thead>\n",
       "  <tbody>\n",
       "    <tr>\n",
       "      <th>0</th>\n",
       "      <td>Rav</td>\n",
       "    </tr>\n",
       "    <tr>\n",
       "      <th>1</th>\n",
       "      <td>Raul</td>\n",
       "    </tr>\n",
       "    <tr>\n",
       "      <th>2</th>\n",
       "      <td>Hima</td>\n",
       "    </tr>\n",
       "  </tbody>\n",
       "</table>\n",
       "</div>"
      ],
      "text/plain": [
       "  FNAME\n",
       "0   Rav\n",
       "1  Raul\n",
       "2  Hima"
      ]
     },
     "execution_count": 186,
     "metadata": {},
     "output_type": "execute_result"
    }
   ],
   "source": [
    "instructor_df[['FNAME']]"
   ]
  },
  {
   "cell_type": "code",
   "execution_count": 187,
   "id": "e6c444e5-72fa-4238-a6e1-744af6b2f0b7",
   "metadata": {},
   "outputs": [
    {
     "data": {
      "text/plain": [
       "(3, 5)"
      ]
     },
     "execution_count": 187,
     "metadata": {},
     "output_type": "execute_result"
    }
   ],
   "source": [
    "instructor_df.shape"
   ]
  },
  {
   "cell_type": "code",
   "execution_count": 188,
   "id": "ba715b33-44bd-40c6-bef6-e1e2e7fb1c59",
   "metadata": {},
   "outputs": [
    {
     "data": {
      "text/plain": [
       "0        Ahuja\n",
       "1        Chong\n",
       "2    Vasudevan\n",
       "Name: LNAME, dtype: object"
      ]
     },
     "execution_count": 188,
     "metadata": {},
     "output_type": "execute_result"
    }
   ],
   "source": [
    "instructor_df['LNAME']"
   ]
  },
  {
   "cell_type": "code",
   "execution_count": 189,
   "id": "19970106-468a-4a84-b449-6e936fc911c6",
   "metadata": {},
   "outputs": [
    {
     "data": {
      "text/plain": [
       "'Chong'"
      ]
     },
     "execution_count": 189,
     "metadata": {},
     "output_type": "execute_result"
    }
   ],
   "source": [
    "instructor_df.iloc[1,2]"
   ]
  },
  {
   "cell_type": "code",
   "execution_count": 190,
   "id": "c548b70c-c995-4db8-b87b-57c59176f702",
   "metadata": {},
   "outputs": [
    {
     "data": {
      "text/plain": [
       "'Chong'"
      ]
     },
     "execution_count": 190,
     "metadata": {},
     "output_type": "execute_result"
    }
   ],
   "source": [
    "instructor_df.loc[1,'LNAME']"
   ]
  },
  {
   "cell_type": "code",
   "execution_count": 191,
   "id": "28c21358-229f-46dd-ad9e-d4fa12ba2a70",
   "metadata": {},
   "outputs": [],
   "source": [
    "conn.close()"
   ]
  }
 ],
 "metadata": {
  "kernelspec": {
   "display_name": "Python 3 (ipykernel)",
   "language": "python",
   "name": "python3"
  },
  "language_info": {
   "codemirror_mode": {
    "name": "ipython",
    "version": 3
   },
   "file_extension": ".py",
   "mimetype": "text/x-python",
   "name": "python",
   "nbconvert_exporter": "python",
   "pygments_lexer": "ipython3",
   "version": "3.12.4"
  }
 },
 "nbformat": 4,
 "nbformat_minor": 5
}
