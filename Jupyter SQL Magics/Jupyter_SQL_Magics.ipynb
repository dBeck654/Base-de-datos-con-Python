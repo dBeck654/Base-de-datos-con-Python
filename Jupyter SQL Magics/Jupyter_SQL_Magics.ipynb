{
 "cells": [
  {
   "cell_type": "markdown",
   "id": "559e131c-72c4-47be-9e4a-972530fffdcc",
   "metadata": {},
   "source": [
    "# Base de datos con SQL Magic"
   ]
  },
  {
   "cell_type": "markdown",
   "id": "7dd5b585-1d44-447e-8eac-7aba49c42c6b",
   "metadata": {},
   "source": [
    "Magic en terminos de Jupyter Notebook son comandos especiales que inician con \"%\"."
   ]
  },
  {
   "cell_type": "markdown",
   "id": "1f8f6bcf-5ca3-4fbc-a3ab-8c22fa5a6ec0",
   "metadata": {},
   "source": [
    "## 1. Comandos Magic Jupyter Notebooks"
   ]
  },
  {
   "cell_type": "markdown",
   "id": "5aaaa889-32a1-4587-92d5-b84199db7f51",
   "metadata": {},
   "source": [
    "Los comandos Magic son comandos especiales que proporcionan funcionalidades especiales en Jupyter notebooks.\n",
    "* No son códigos valdios en Python, pero afectan el comportamiento de la notebook.\n",
    "* Están diseñados para resolver problemas de análisis de datos.\n",
    "\n",
    "Existen dos tipos de cells Magics:\n",
    "* Line Magics: Comandos que tienen como prefijo un solo % y operan en una sola linea de entrada.\n",
    "* Cell Magics: Comandos que tienen como prefijo dos % y operan en multiples lineas de entrada."
   ]
  },
  {
   "cell_type": "code",
   "execution_count": 10,
   "id": "2ccff6f0-c571-4a3c-8ee4-7ad3567cd48b",
   "metadata": {},
   "outputs": [
    {
     "data": {
      "text/html": [
       "<style type=\"text/css\">\n",
       "#T_6cf76 th {\n",
       "  text-align: left;\n",
       "}\n",
       "</style>\n",
       "<table id=\"T_6cf76\">\n",
       "  <thead>\n",
       "    <tr>\n",
       "      <th class=\"index_name level0\" >Line Magics</th>\n",
       "      <th class=\"index_name level1\" >Usos</th>\n",
       "    </tr>\n",
       "  </thead>\n",
       "  <tbody>\n",
       "    <tr>\n",
       "      <th id=\"T_6cf76_level0_row0\" class=\"row_heading level0 row0\" >%pwd</th>\n",
       "      <th id=\"T_6cf76_level1_row0\" class=\"row_heading level1 row0\" >imprime el direcotrio de trabajo actual</th>\n",
       "    </tr>\n",
       "    <tr>\n",
       "      <th id=\"T_6cf76_level0_row1\" class=\"row_heading level0 row1\" >%ls</th>\n",
       "      <th id=\"T_6cf76_level1_row1\" class=\"row_heading level1 row1\" >lista de todos los archivos en el directorio actual</th>\n",
       "    </tr>\n",
       "    <tr>\n",
       "      <th id=\"T_6cf76_level0_row2\" class=\"row_heading level0 row2\" >%history</th>\n",
       "      <th id=\"T_6cf76_level1_row2\" class=\"row_heading level1 row2\" >muestra el historial de comandos</th>\n",
       "    </tr>\n",
       "    <tr>\n",
       "      <th id=\"T_6cf76_level0_row3\" class=\"row_heading level0 row3\" >%reset</th>\n",
       "      <th id=\"T_6cf76_level1_row3\" class=\"row_heading level1 row3\" >resetea el espacio de nombres(namespace) removiendo todos los nombres definidos por el usuario</th>\n",
       "    </tr>\n",
       "    <tr>\n",
       "      <th id=\"T_6cf76_level0_row4\" class=\"row_heading level0 row4\" >%who</th>\n",
       "      <th id=\"T_6cf76_level1_row4\" class=\"row_heading level1 row4\" >lista de todas las variables en el namespace</th>\n",
       "    </tr>\n",
       "    <tr>\n",
       "      <th id=\"T_6cf76_level0_row5\" class=\"row_heading level0 row5\" >%whos</th>\n",
       "      <th id=\"T_6cf76_level1_row5\" class=\"row_heading level1 row5\" >proporciona mayor información acerca de todas las variables en el namespace</th>\n",
       "    </tr>\n",
       "    <tr>\n",
       "      <th id=\"T_6cf76_level0_row6\" class=\"row_heading level0 row6\" >%matplotlib inline</th>\n",
       "      <th id=\"T_6cf76_level1_row6\" class=\"row_heading level1 row6\" >hace que los gráficos matplotlib aparezcan en la notebook</th>\n",
       "    </tr>\n",
       "    <tr>\n",
       "      <th id=\"T_6cf76_level0_row7\" class=\"row_heading level0 row7\" >%timeit</th>\n",
       "      <th id=\"T_6cf76_level1_row7\" class=\"row_heading level1 row7\" >cuantas veces se ejecuto una sola instrucción</th>\n",
       "    </tr>\n",
       "    <tr>\n",
       "      <th id=\"T_6cf76_level0_row8\" class=\"row_heading level0 row8\" >%lsmagic</th>\n",
       "      <th id=\"T_6cf76_level1_row8\" class=\"row_heading level1 row8\" >lista de todas las line magics disponibles</th>\n",
       "    </tr>\n",
       "  </tbody>\n",
       "</table>\n"
      ],
      "text/plain": [
       "<pandas.io.formats.style.Styler at 0x1c0244a6bd0>"
      ]
     },
     "execution_count": 10,
     "metadata": {},
     "output_type": "execute_result"
    }
   ],
   "source": [
    "import pandas as pd\n",
    "from tabulate import tabulate\n",
    "lmagic=pd.DataFrame({'Line Magics':['%pwd','%ls','%history','%reset','%who','%whos','%matplotlib inline','%timeit','%lsmagic'],'Usos':['imprime el direcotrio de trabajo actual','lista de todos los archivos en el directorio actual','muestra el historial de comandos','resetea el espacio de nombres(namespace) removiendo todos los nombres definidos por el usuario','lista de todas las variables en el namespace','proporciona mayor información acerca de todas las variables en el namespace','hace que los gráficos matplotlib aparezcan en la notebook','cuantas veces se ejecuto una sola instrucción','lista de todas las line magics disponibles']})\n",
    "pd.set_option('display.max_colwidth', None)\n",
    "lmagic.set_index(['Line Magics','Usos'],inplace=True)\n",
    "lmagic.style.set_properties(**{'text-align':'left'}).set_table_styles([dict(selector='th',props=[('text-align','left')])])"
   ]
  },
  {
   "cell_type": "markdown",
   "id": "ced45d80-8761-4c40-8614-017d0d0b5b60",
   "metadata": {},
   "source": [
    "**Los comando Line Magic se pueden usar como Cell Magics usando como prefijo dos % para que estos afecten a toda la celda.**"
   ]
  },
  {
   "cell_type": "code",
   "execution_count": 11,
   "id": "204545ec-e7cd-4a79-ad21-dac4e429cbcd",
   "metadata": {},
   "outputs": [
    {
     "data": {
      "text/html": [
       "<style type=\"text/css\">\n",
       "#T_21cbd th {\n",
       "  text-align: left;\n",
       "}\n",
       "</style>\n",
       "<table id=\"T_21cbd\">\n",
       "  <thead>\n",
       "    <tr>\n",
       "      <th class=\"index_name level0\" >Cell Magics</th>\n",
       "      <th class=\"index_name level1\" >Usos</th>\n",
       "    </tr>\n",
       "  </thead>\n",
       "  <tbody>\n",
       "    <tr>\n",
       "      <th id=\"T_21cbd_level0_row0\" class=\"row_heading level0 row0\" >%%HTML</th>\n",
       "      <th id=\"T_21cbd_level1_row0\" class=\"row_heading level1 row0\" >permite ejecutar código HTML</th>\n",
       "    </tr>\n",
       "    <tr>\n",
       "      <th id=\"T_21cbd_level0_row1\" class=\"row_heading level0 row1\" >%%javascript</th>\n",
       "      <th id=\"T_21cbd_level1_row1\" class=\"row_heading level1 row1\" >permite ejecutar código JavaScript</th>\n",
       "    </tr>\n",
       "    <tr>\n",
       "      <th id=\"T_21cbd_level0_row2\" class=\"row_heading level0 row2\" >%%bash cell</th>\n",
       "      <th id=\"T_21cbd_level1_row2\" class=\"row_heading level1 row2\" >permite usar comandos bash</th>\n",
       "    </tr>\n",
       "    <tr>\n",
       "      <th id=\"T_21cbd_level0_row3\" class=\"row_heading level0 row3\" >%%writefile myfile.txt</th>\n",
       "      <th id=\"T_21cbd_level1_row3\" class=\"row_heading level1 row3\" >Escribe todas las instrucciones de la celda en el archivo myfile.txt</th>\n",
       "    </tr>\n",
       "  </tbody>\n",
       "</table>\n"
      ],
      "text/plain": [
       "<pandas.io.formats.style.Styler at 0x1c024479df0>"
      ]
     },
     "execution_count": 11,
     "metadata": {},
     "output_type": "execute_result"
    }
   ],
   "source": [
    "cmagic=pd.DataFrame({'Cell Magics':['%%HTML','%%javascript','%%bash cell','%%writefile myfile.txt'],'Usos':['permite ejecutar código HTML','permite ejecutar código JavaScript','permite usar comandos bash','Escribe todas las instrucciones de la celda en el archivo myfile.txt']})\n",
    "pd.set_option('display.max_colwidth', None)\n",
    "cmagic.set_index(['Cell Magics','Usos'],inplace=True)\n",
    "cmagic.style.set_properties(**{'text-align':'left'}).set_table_styles([dict(selector='th',props=[('text-align','left')])])"
   ]
  },
  {
   "cell_type": "markdown",
   "id": "8e712efa-a6ab-49f1-80e0-23fe241d9be8",
   "metadata": {},
   "source": [
    "## 2. SQL Magic"
   ]
  },
  {
   "cell_type": "markdown",
   "id": "bddd6df1-01ff-4434-9e43-5fa6b7e5bf82",
   "metadata": {},
   "source": [
    "Para comunicarse con bases de datos SQL a través de Jupyter Notebook se puede usar el SQL Magic de la extensión ipython.sql. Para cargar la extensión se usa el comando load_ext:\n",
    "\n",
    "**En esta ocasión la extención ipython-sql ya esta instalda**"
   ]
  },
  {
   "cell_type": "markdown",
   "id": "ec755c24-7ce5-4166-a517-1ed58d0c70a2",
   "metadata": {},
   "source": [
    "Ahora se crea y conecta a una nueva base de datos sqlite3:"
   ]
  },
  {
   "cell_type": "code",
   "execution_count": 12,
   "id": "9173c5b3-6961-4d3e-afaa-f02c469e3c70",
   "metadata": {},
   "outputs": [],
   "source": [
    "import sqlite3\n",
    "#Conexión\n",
    "con=sqlite3.connect('SQLiteMagic.db')\n",
    "#Objeto Cursor\n",
    "cur=con.cursor()"
   ]
  },
  {
   "cell_type": "markdown",
   "id": "29b104f6",
   "metadata": {},
   "source": [
    "Se carga la extensión para habilitar comandos magics:"
   ]
  },
  {
   "cell_type": "code",
   "execution_count": 13,
   "id": "4bfdd2b0-87d0-43af-ad41-1f4b34fe782e",
   "metadata": {},
   "outputs": [
    {
     "name": "stdout",
     "output_type": "stream",
     "text": [
      "The sql extension is already loaded. To reload it, use:\n",
      "  %reload_ext sql\n"
     ]
    }
   ],
   "source": [
    "%load_ext sql"
   ]
  },
  {
   "cell_type": "markdown",
   "id": "50b1c3c3-b097-4285-a71b-21e4e6d91698",
   "metadata": {},
   "source": [
    "A continuación, para conectar con la base de datos SQLiteMagic.bd usando sqlite se escribe el siguiente código:"
   ]
  },
  {
   "cell_type": "code",
   "execution_count": 14,
   "id": "bc71f85a-2314-4fc1-b8f1-88230fc7df11",
   "metadata": {},
   "outputs": [
    {
     "data": {
      "text/plain": [
       "'Connected: @SQLiteMagic.db'"
      ]
     },
     "execution_count": 14,
     "metadata": {},
     "output_type": "execute_result"
    }
   ],
   "source": [
    "%%sql\n",
    "sqlite:///SQLiteMagic.db"
   ]
  },
  {
   "cell_type": "markdown",
   "id": "c71ee629-c6a4-4cbf-bdaa-65fd5071803c",
   "metadata": {},
   "source": [
    "Se usa el comando Magic %%sql al inicio de la celda para indicar que toda la celda sera tratada como SQL. Con esto se crea una tabla en la base de datos de la siguiente manera:"
   ]
  },
  {
   "cell_type": "code",
   "execution_count": 15,
   "id": "77206a1a-3fff-45ed-9d4d-e54de01759d3",
   "metadata": {},
   "outputs": [
    {
     "name": "stdout",
     "output_type": "stream",
     "text": [
      " * sqlite:///SQLiteMagic.db\n",
      "Done.\n",
      "99 rows affected.\n"
     ]
    },
    {
     "data": {
      "text/plain": [
       "[]"
      ]
     },
     "execution_count": 15,
     "metadata": {},
     "output_type": "execute_result"
    }
   ],
   "source": [
    "%%sql\n",
    "--Se crea la tabla \"international_student_test_score\"\n",
    "CREATE TABLE IF NOT EXISTS international_student_test_score(\n",
    "    country VARCHAR(50),\n",
    "    first_name VARCHAR(50),\n",
    "    last_name VARCHAR(50),\n",
    "    test_score INT\n",
    ");\n",
    "--Se pobla la tabla\n",
    "INSERT INTO international_student_test_score(country,first_name,last_name,test_score)\n",
    "VALUES\n",
    "('United States','Marshall','Bernadot',54),\n",
    "('Ghana','Celinda','Malkin',51),\n",
    "('Ukraine','Guillermo','Furze',53),\n",
    "('Greece','Aharon','Tunnow',48),\n",
    "('Russia','Bail','Goodwin',46),\n",
    "('Poland','Cole','Winteringham',49),\n",
    "('Sweden','Emlyn','Erricker',55),\n",
    "('Russia','Cathee','Sivewright',49),\n",
    "('China','Barny','Ingerson',57),\n",
    "('Uganda','Sharla','Papaccio',55),\n",
    "('China','Stella','Youens',51),\n",
    "('Poland','Julio','Buesden',48),\n",
    "('United States','Tiffie','Cosely',58),\n",
    "('Poland','Auroora','Stiffell',45),\n",
    "('China','Clarita','Huet',52),\n",
    "('Poland','Shannon','Goulden',45),\n",
    "('Philippines','Emylee','Privost',50),\n",
    "('France','Madelina','Burk',49),\n",
    "('China','Saunderson','Root',58),\n",
    "('Indonesia','Bo','Waring',55),\n",
    "('China','Hollis','Domotor',45),\n",
    "('Russia','Robbie','Collip',46),\n",
    "('Philippines','Davon','Donisi',46),\n",
    "('China','Cristabel','Radeliffe',48),\n",
    "('China','Wallis','Bartleet',58),\n",
    "('Moldova','Arleen','Stailey',38),\n",
    "('Ireland','Mendel','Grumble',58),\n",
    "('China','Sallyann','Exley',51),\n",
    "('Mexico','Kain','Swaite',46),\n",
    "('Indonesia','Alonso','Bulteel',45),\n",
    "('Armenia','Anatol','Tankus',51),\n",
    "('Indonesia','Coralyn','Dawkins',48),\n",
    "('China','Deanne','Edwinson',45),\n",
    "('China','Georgiana','Epple',51),\n",
    "('Portugal','Bartlet','Breese',56),\n",
    "('Azerbaijan','Idalina','Lukash',50),\n",
    "('France','Livvie','Flory',54),\n",
    "('Malaysia','Nonie','Borit',48),\n",
    "('Indonesia','Clio','Mugg',47),\n",
    "('Brazil','Westley','Measor',48),\n",
    "('Philippines','Katrinka','Sibbert',51),\n",
    "('Poland','Valentia','Mounch',50),\n",
    "('Norway','Sheilah','Hedditch',53),\n",
    "('Papua New Guinea','Itch','Jubb',50),\n",
    "('Latvia','Stesha','Garnson',53),\n",
    "('Canada','Cristionna','Wadmore',46),\n",
    "('China','Lianna','Gatward',43),\n",
    "('Guatemala','Tanney','Vials',48),\n",
    "('France','Alma','Zavittieri',44),\n",
    "('China','Alvira','Tamas',50),\n",
    "('United States','Shanon','Peres',45),\n",
    "('Sweden','Maisey','Lynas',53),\n",
    "('Indonesia','Kip','Hothersall',46),\n",
    "('China','Cash','Landis',48),\n",
    "('Panama','Kennith','Digance',45),\n",
    "('China','Ulberto','Riggeard',48),\n",
    "('Switzerland','Judy','Gilligan',49),\n",
    "('Philippines','Tod','Trevaskus',52),\n",
    "('Brazil','Herold','Heggs',44),\n",
    "('Latvia','Verney','Note',50),\n",
    "('Poland','Temp','Ribey',50),\n",
    "('China','Conroy','Egdal',48),\n",
    "('Japan','Gabie','Alessandone',47),\n",
    "('Ukraine','Devlen','Chaperlin',54),\n",
    "('France','Babbette','Turner',51),\n",
    "('Czech Republic','Virgil','Scotney',52),\n",
    "('Tajikistan','Zorina','Bedow',49),\n",
    "('China','Aidan','Rudeyeard',50),\n",
    "('Ireland','Saunder','MacLice',48),\n",
    "('France','Waly','Brunstan',53),\n",
    "('China','Gisele','Enns',52),\n",
    "('Peru','Mina','Winchester',48),\n",
    "('Japan','Torie','MacShirrie',50),\n",
    "('Russia','Benjamen','Kenford',51),\n",
    "('China','Etan','Burn',53),\n",
    "('Russia','Merralee','Chaperlin',38),\n",
    "('Indonesia','Lanny','Malam',49),\n",
    "('Canada','Wilhelm','Deeprose',54),\n",
    "('Czech Republic','Lari','Hillhouse',48),\n",
    "('China','Ossie','Woodley',52),\n",
    "('Macedonia','April','Tyer',50),\n",
    "('Vietnam','Madelon','Dansey',53),\n",
    "('Ukraine','Korella','McNamee',52),\n",
    "('Jamaica','Linnea','Cannam',43),\n",
    "('China','Mart','Coling',52),\n",
    "('Indonesia','Marna','Causbey',47),\n",
    "('China','Berni','Daintier',55),\n",
    "('Poland','Cynthia','Hassell',49),\n",
    "('Canada','Carma','Schule',49),\n",
    "('Indonesia','Malia','Blight',48),\n",
    "('China','Paulo','Seivertsen',47),\n",
    "('Niger','Kaylee','Hearley',54),\n",
    "('Japan','Maure','Jandak',46),\n",
    "('Argentina','Foss','Feavers',45),\n",
    "('Venezuela','Ron','Leggitt',60),\n",
    "('Russia','Flint','Gokes',40),\n",
    "('China','Linet','Conelly',52),\n",
    "('Philippines','Nikolas','Birtwell',57),\n",
    "('Australia','Eduard','Leipelt',53)"
   ]
  },
  {
   "cell_type": "markdown",
   "id": "2ec607bc-cf3f-41b5-a2ea-3590b1587ba8",
   "metadata": {},
   "source": [
    "## 3. Usando Variables de Python en Queries SQL"
   ]
  },
  {
   "cell_type": "markdown",
   "id": "eafc205a-72b8-4c90-9550-ea2ffd885169",
   "metadata": {},
   "source": [
    "Se puede usar variables de Python en Queries SQL añadiendo el prefijo \":\" al nombre de la variable Python."
   ]
  },
  {
   "cell_type": "code",
   "execution_count": 16,
   "id": "6b1a43e8-b1d2-4305-9e37-bf104431c53c",
   "metadata": {},
   "outputs": [
    {
     "name": "stdout",
     "output_type": "stream",
     "text": [
      " * sqlite:///SQLiteMagic.db\n",
      "Done.\n"
     ]
    },
    {
     "data": {
      "text/html": [
       "<table>\n",
       "    <thead>\n",
       "        <tr>\n",
       "            <th>country</th>\n",
       "            <th>first_name</th>\n",
       "            <th>last_name</th>\n",
       "            <th>test_score</th>\n",
       "        </tr>\n",
       "    </thead>\n",
       "    <tbody>\n",
       "        <tr>\n",
       "            <td>Canada</td>\n",
       "            <td>Cristionna</td>\n",
       "            <td>Wadmore</td>\n",
       "            <td>46</td>\n",
       "        </tr>\n",
       "        <tr>\n",
       "            <td>Canada</td>\n",
       "            <td>Wilhelm</td>\n",
       "            <td>Deeprose</td>\n",
       "            <td>54</td>\n",
       "        </tr>\n",
       "        <tr>\n",
       "            <td>Canada</td>\n",
       "            <td>Carma</td>\n",
       "            <td>Schule</td>\n",
       "            <td>49</td>\n",
       "        </tr>\n",
       "        <tr>\n",
       "            <td>Canada</td>\n",
       "            <td>Cristionna</td>\n",
       "            <td>Wadmore</td>\n",
       "            <td>46</td>\n",
       "        </tr>\n",
       "        <tr>\n",
       "            <td>Canada</td>\n",
       "            <td>Wilhelm</td>\n",
       "            <td>Deeprose</td>\n",
       "            <td>54</td>\n",
       "        </tr>\n",
       "        <tr>\n",
       "            <td>Canada</td>\n",
       "            <td>Carma</td>\n",
       "            <td>Schule</td>\n",
       "            <td>49</td>\n",
       "        </tr>\n",
       "    </tbody>\n",
       "</table>"
      ],
      "text/plain": [
       "[('Canada', 'Cristionna', 'Wadmore', 46),\n",
       " ('Canada', 'Wilhelm', 'Deeprose', 54),\n",
       " ('Canada', 'Carma', 'Schule', 49),\n",
       " ('Canada', 'Cristionna', 'Wadmore', 46),\n",
       " ('Canada', 'Wilhelm', 'Deeprose', 54),\n",
       " ('Canada', 'Carma', 'Schule', 49)]"
      ]
     },
     "execution_count": 16,
     "metadata": {},
     "output_type": "execute_result"
    }
   ],
   "source": [
    "country_py='Canada'\n",
    "%sql SELECT * FROM international_student_test_score WHERE country=:country_py"
   ]
  },
  {
   "cell_type": "markdown",
   "id": "fe4fefa6-588d-4b5c-b69d-d74ffbfab59d",
   "metadata": {},
   "source": [
    "## 4. Asignar Resultados de Queries a Variables de Python"
   ]
  },
  {
   "cell_type": "markdown",
   "id": "3e77b011-70eb-4110-bcc0-7fead8ad9c16",
   "metadata": {},
   "source": [
    "Se puede usar la sintaxis normal de Python para asignar resultados de Queries a varaibles."
   ]
  },
  {
   "cell_type": "code",
   "execution_count": 17,
   "id": "bce59d90-8986-4619-814d-4bd832f6a243",
   "metadata": {},
   "outputs": [
    {
     "name": "stdout",
     "output_type": "stream",
     "text": [
      " * sqlite:///SQLiteMagic.db\n",
      "Done.\n"
     ]
    },
    {
     "data": {
      "text/html": [
       "<table>\n",
       "    <thead>\n",
       "        <tr>\n",
       "            <th>Test_Score</th>\n",
       "            <th>Frequency</th>\n",
       "        </tr>\n",
       "    </thead>\n",
       "    <tbody>\n",
       "        <tr>\n",
       "            <td>38</td>\n",
       "            <td>4</td>\n",
       "        </tr>\n",
       "        <tr>\n",
       "            <td>40</td>\n",
       "            <td>2</td>\n",
       "        </tr>\n",
       "        <tr>\n",
       "            <td>43</td>\n",
       "            <td>4</td>\n",
       "        </tr>\n",
       "        <tr>\n",
       "            <td>44</td>\n",
       "            <td>4</td>\n",
       "        </tr>\n",
       "        <tr>\n",
       "            <td>45</td>\n",
       "            <td>16</td>\n",
       "        </tr>\n",
       "        <tr>\n",
       "            <td>46</td>\n",
       "            <td>14</td>\n",
       "        </tr>\n",
       "        <tr>\n",
       "            <td>47</td>\n",
       "            <td>8</td>\n",
       "        </tr>\n",
       "        <tr>\n",
       "            <td>48</td>\n",
       "            <td>28</td>\n",
       "        </tr>\n",
       "        <tr>\n",
       "            <td>49</td>\n",
       "            <td>16</td>\n",
       "        </tr>\n",
       "        <tr>\n",
       "            <td>50</td>\n",
       "            <td>20</td>\n",
       "        </tr>\n",
       "        <tr>\n",
       "            <td>51</td>\n",
       "            <td>16</td>\n",
       "        </tr>\n",
       "        <tr>\n",
       "            <td>52</td>\n",
       "            <td>16</td>\n",
       "        </tr>\n",
       "        <tr>\n",
       "            <td>53</td>\n",
       "            <td>16</td>\n",
       "        </tr>\n",
       "        <tr>\n",
       "            <td>54</td>\n",
       "            <td>10</td>\n",
       "        </tr>\n",
       "        <tr>\n",
       "            <td>55</td>\n",
       "            <td>8</td>\n",
       "        </tr>\n",
       "        <tr>\n",
       "            <td>56</td>\n",
       "            <td>2</td>\n",
       "        </tr>\n",
       "        <tr>\n",
       "            <td>57</td>\n",
       "            <td>4</td>\n",
       "        </tr>\n",
       "        <tr>\n",
       "            <td>58</td>\n",
       "            <td>8</td>\n",
       "        </tr>\n",
       "        <tr>\n",
       "            <td>60</td>\n",
       "            <td>2</td>\n",
       "        </tr>\n",
       "    </tbody>\n",
       "</table>"
      ],
      "text/plain": [
       "[(38, 4),\n",
       " (40, 2),\n",
       " (43, 4),\n",
       " (44, 4),\n",
       " (45, 16),\n",
       " (46, 14),\n",
       " (47, 8),\n",
       " (48, 28),\n",
       " (49, 16),\n",
       " (50, 20),\n",
       " (51, 16),\n",
       " (52, 16),\n",
       " (53, 16),\n",
       " (54, 10),\n",
       " (55, 8),\n",
       " (56, 2),\n",
       " (57, 4),\n",
       " (58, 8),\n",
       " (60, 2)]"
      ]
     },
     "execution_count": 17,
     "metadata": {},
     "output_type": "execute_result"
    }
   ],
   "source": [
    "test_score_distribution=%sql SELECT test_score as 'Test_Score',count(*) as 'Frequency' FROM international_student_test_score GROUP BY test_score;\n",
    "test_score_distribution"
   ]
  },
  {
   "cell_type": "markdown",
   "id": "0f138069-7b55-4b89-ab72-d14f8a977d69",
   "metadata": {},
   "source": [
    "## 5. Convirtiendo Resultados de Queries en DataFrames"
   ]
  },
  {
   "cell_type": "markdown",
   "id": "ea3e37fd-2f84-4e55-a7ea-ad67b5ab9a91",
   "metadata": {},
   "source": [
    "Fácilmente se puede convertir el resultado de una Querie SQL a un DataFrame de pandas."
   ]
  },
  {
   "cell_type": "code",
   "execution_count": 18,
   "id": "c842e690-91d3-49fa-87ad-4e97e4497b49",
   "metadata": {},
   "outputs": [],
   "source": [
    "df=test_score_distribution.DataFrame()\n",
    "df.head(10)"
   ]
  },
  {
   "cell_type": "markdown",
   "id": "0b8e83aa",
   "metadata": {},
   "source": [
    "Se puede graficar el DataFrame con la librería seaborn, de la siguiente manera:"
   ]
  },
  {
   "cell_type": "code",
   "execution_count": 19,
   "id": "a57d134d",
   "metadata": {},
   "outputs": [
    {
     "data": {
      "image/png": "[encoded data removed]",
      "text/plain": [
       "<Figure size 640x480 with 1 Axes>"
      ]
     },
     "metadata": {},
     "output_type": "display_data"
    }
   ],
   "source": [
    "import seaborn\n",
    "plot=seaborn.barplot(x='Test_Score',y='Frequency',data=df)"
   ]
  },
  {
   "cell_type": "markdown",
   "id": "69b1f107",
   "metadata": {},
   "source": [
    "## 6. Conclusión\n",
    "Se pueden crear y conectar bases de datos a través de Python. Además de poder ejecutar instrucciones SQL directamente desde Jupyter Notebook gracias a los comandos Magic. Reafirmando así la versatilidad de Python para el análisis de datos, incluyendo la visualización como se pudo observar en la sección 6 donde se convierte el resultado de una Querie SQL en Dataframe de pandas para luego usando la librería seaborn crear un gráfico de columnas con un estilo minimalista y formal que facilita la comprensión y comparación de los datos. "
   ]
  },
  {
   "cell_type": "markdown",
   "id": "c9ba7ec8",
   "metadata": {},
   "source": [
    "## Autor\n",
    "Benjamín San Martín Peña, Ingeniero Civil Industrial."
   ]
  }
 ],
 "metadata": {
  "kernelspec": {
   "display_name": "Python 3 (ipykernel)",
   "language": "python",
   "name": "python3"
  },
  "language_info": {
   "codemirror_mode": {
    "name": "ipython",
    "version": 3
   },
   "file_extension": ".py",
   "mimetype": "text/x-python",
   "name": "python",
   "nbconvert_exporter": "python",
   "pygments_lexer": "ipython3",
   "version": "3.12.4"
  }
 },
 "nbformat": 4,
 "nbformat_minor": 5
}
